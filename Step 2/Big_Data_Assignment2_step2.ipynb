{
  "nbformat": 4,
  "nbformat_minor": 0,
  "metadata": {
    "colab": {
      "provenance": []
    },
    "kernelspec": {
      "name": "python3",
      "display_name": "Python 3"
    },
    "language_info": {
      "name": "python"
    }
  },
  "cells": [
    {
      "cell_type": "markdown",
      "source": [
        "# ***Installing necessary dependency***"
      ],
      "metadata": {
        "id": "SfLzmdA0LYi9"
      }
    },
    {
      "cell_type": "code",
      "source": [
        "from pypdf import PdfReader\n",
        "import os\n",
        "from grobid_client.grobid_client import GrobidClient\n",
        "import xml.etree.ElementTree as ET"
      ],
      "metadata": {
        "id": "BGyMnCC9Ogxd"
      },
      "execution_count": null,
      "outputs": []
    },
    {
      "cell_type": "code",
      "source": [
        "client = GrobidClient(config_path=\"./config.json\")"
      ],
      "metadata": {
        "id": "kxMZh66hTNVg"
      },
      "execution_count": null,
      "outputs": []
    },
    {
      "cell_type": "code",
      "source": [
        "def extract_text_from_xml(xml_string):\n",
        "    root = ET.fromstring(xml_string)\n",
        "    extracted_text = \"\"\n",
        "\n",
        "    for p in root.findall(\".//{http://www.tei-c.org/ns/1.0}p\"):\n",
        "        for s in p.findall(\".//{http://www.tei-c.org/ns/1.0}s\"):\n",
        "            extracted_text += s.text.strip() + \"\\n\"\n",
        "\n",
        "    return extracted_text"
      ],
      "metadata": {
        "id": "RsQj5eWuTRZF"
      },
      "execution_count": null,
      "outputs": []
    },
    {
      "cell_type": "code",
      "source": [
        "if not os.path.exists(\"PyPDF\"):\n",
        "    os.makedirs(\"PyPDF\")\n",
        "\n",
        "if not os.path.exists(\"Grobid\"):\n",
        "    os.makedirs(\"Grobid\")"
      ],
      "metadata": {
        "id": "PLaCphDbTVBp"
      },
      "execution_count": null,
      "outputs": []
    },
    {
      "cell_type": "markdown",
      "source": [
        "# **Extract Text Using PyPDF**"
      ],
      "metadata": {
        "id": "WHdPoN2qUFCo"
      }
    },
    {
      "cell_type": "code",
      "source": [
        "path = [\"2024-l1-topics-combined-2.pdf\", \"2024-l2-topics-combined-2.pdf\", \"2024-l3-topics-combined-2.pdf\"]"
      ],
      "metadata": {
        "id": "d-J7fgPZEk5z"
      },
      "execution_count": null,
      "outputs": []
    },
    {
      "cell_type": "code",
      "source": [
        "for _path in path:\n",
        "    pdf_reader = PdfReader(_path)\n",
        "\n",
        "    data = _path.split(\"-\")\n",
        "\n",
        "    file=open(f\"PyPDF/PyPDF_RR_{data[0]}_{data[1]}_combined.txt\",\"a\")\n",
        "\n",
        "    for i in range(len(pdf_reader.pages)):\n",
        "        page_pypdf = pdf_reader.pages[i].extract_text()\n",
        "        file.writelines(page_pypdf)\n",
        "\n",
        "    file.flush()\n",
        "    file.close()"
      ],
      "metadata": {
        "id": "buERL1JsTaI5"
      },
      "execution_count": null,
      "outputs": []
    },
    {
      "cell_type": "markdown",
      "source": [
        "# **Extracting Text Using Grobid**"
      ],
      "metadata": {
        "id": "l_D2eTHAT-I2"
      }
    },
    {
      "cell_type": "code",
      "source": [
        "for _path in path:\n",
        "    rsp = client.process_pdf(\"processFulltextDocument\", _path,\n",
        "                            generateIDs=True,\n",
        "                            consolidate_header=True,\n",
        "                            consolidate_citations=True,\n",
        "                            include_raw_citations=True,\n",
        "                            include_raw_affiliations=True,\n",
        "                            tei_coordinates=True,\n",
        "                            segment_sentences=True)\n",
        "    extracted_text = extract_text_from_xml(rsp[2])\n",
        "\n",
        "    data = _path.split(\"-\")\n",
        "\n",
        "    with open(f\"Grobid/Grobid_RR_{data[0]}_{data[1]}_combined.txt\", \"w\", encoding=\"utf-8\") as file:\n",
        "        file.write(extracted_text)\n",
        "        file.flush()\n",
        "        file.close()"
      ],
      "metadata": {
        "id": "OC0EbACOT8QA"
      },
      "execution_count": null,
      "outputs": []
    }
  ]
}