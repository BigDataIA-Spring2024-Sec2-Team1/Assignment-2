{
  "nbformat": 4,
  "nbformat_minor": 0,
  "metadata": {
    "colab": {
      "provenance": []
    },
    "kernelspec": {
      "name": "python3",
      "display_name": "Python 3"
    },
    "language_info": {
      "name": "python"
    }
  },
  "cells": [
    {
      "cell_type": "code",
      "source": [
        "pip install sqlalchemy"
      ],
      "metadata": {
        "colab": {
          "base_uri": "https://localhost:8080/"
        },
        "id": "enb1sQjSQCSA",
        "outputId": "aa2a5bc8-8f80-4182-f718-af4954f6e483"
      },
      "execution_count": null,
      "outputs": [
        {
          "output_type": "stream",
          "name": "stdout",
          "text": [
            "Requirement already satisfied: sqlalchemy in /usr/local/lib/python3.10/dist-packages (2.0.27)\n",
            "Requirement already satisfied: typing-extensions>=4.6.0 in /usr/local/lib/python3.10/dist-packages (from sqlalchemy) (4.9.0)\n",
            "Requirement already satisfied: greenlet!=0.4.17 in /usr/local/lib/python3.10/dist-packages (from sqlalchemy) (3.0.3)\n"
          ]
        }
      ]
    },
    {
      "cell_type": "code",
      "source": [
        "pip install snowflake-sqlalchemy"
      ],
      "metadata": {
        "colab": {
          "base_uri": "https://localhost:8080/"
        },
        "id": "YLuhFZw9QKg5",
        "outputId": "ee2a161d-9cc4-4853-b078-eb9bf9387c79"
      },
      "execution_count": null,
      "outputs": [
        {
          "output_type": "stream",
          "name": "stdout",
          "text": [
            "Collecting snowflake-sqlalchemy\n",
            "  Downloading snowflake_sqlalchemy-1.5.1-py2.py3-none-any.whl (39 kB)\n",
            "Collecting sqlalchemy<2.0.0,>=1.4.0 (from snowflake-sqlalchemy)\n",
            "  Downloading SQLAlchemy-1.4.51-cp310-cp310-manylinux_2_5_x86_64.manylinux1_x86_64.manylinux_2_17_x86_64.manylinux2014_x86_64.whl (1.6 MB)\n",
            "\u001b[2K     \u001b[90m━━━━━━━━━━━━━━━━━━━━━━━━━━━━━━━━━━━━━━━━\u001b[0m \u001b[32m1.6/1.6 MB\u001b[0m \u001b[31m30.6 MB/s\u001b[0m eta \u001b[36m0:00:00\u001b[0m\n",
            "\u001b[?25hCollecting snowflake-connector-python<4.0.0 (from snowflake-sqlalchemy)\n",
            "  Downloading snowflake_connector_python-3.7.0-cp310-cp310-manylinux_2_17_x86_64.manylinux2014_x86_64.whl (2.4 MB)\n",
            "\u001b[2K     \u001b[90m━━━━━━━━━━━━━━━━━━━━━━━━━━━━━━━━━━━━━━━━\u001b[0m \u001b[32m2.4/2.4 MB\u001b[0m \u001b[31m51.5 MB/s\u001b[0m eta \u001b[36m0:00:00\u001b[0m\n",
            "\u001b[?25hCollecting asn1crypto<2.0.0,>0.24.0 (from snowflake-connector-python<4.0.0->snowflake-sqlalchemy)\n",
            "  Downloading asn1crypto-1.5.1-py2.py3-none-any.whl (105 kB)\n",
            "\u001b[2K     \u001b[90m━━━━━━━━━━━━━━━━━━━━━━━━━━━━━━━━━━━━━━━━\u001b[0m \u001b[32m105.0/105.0 kB\u001b[0m \u001b[31m12.3 MB/s\u001b[0m eta \u001b[36m0:00:00\u001b[0m\n",
            "\u001b[?25hRequirement already satisfied: cffi<2.0.0,>=1.9 in /usr/local/lib/python3.10/dist-packages (from snowflake-connector-python<4.0.0->snowflake-sqlalchemy) (1.16.0)\n",
            "Collecting cryptography<42.0.0,>=3.1.0 (from snowflake-connector-python<4.0.0->snowflake-sqlalchemy)\n",
            "  Downloading cryptography-41.0.7-cp37-abi3-manylinux_2_28_x86_64.whl (4.4 MB)\n",
            "\u001b[2K     \u001b[90m━━━━━━━━━━━━━━━━━━━━━━━━━━━━━━━━━━━━━━━━\u001b[0m \u001b[32m4.4/4.4 MB\u001b[0m \u001b[31m72.0 MB/s\u001b[0m eta \u001b[36m0:00:00\u001b[0m\n",
            "\u001b[?25hCollecting pyOpenSSL<24.0.0,>=16.2.0 (from snowflake-connector-python<4.0.0->snowflake-sqlalchemy)\n",
            "  Downloading pyOpenSSL-23.3.0-py3-none-any.whl (58 kB)\n",
            "\u001b[2K     \u001b[90m━━━━━━━━━━━━━━━━━━━━━━━━━━━━━━━━━━━━━━━━\u001b[0m \u001b[32m58.8/58.8 kB\u001b[0m \u001b[31m7.3 MB/s\u001b[0m eta \u001b[36m0:00:00\u001b[0m\n",
            "\u001b[?25hRequirement already satisfied: pyjwt<3.0.0 in /usr/lib/python3/dist-packages (from snowflake-connector-python<4.0.0->snowflake-sqlalchemy) (2.3.0)\n",
            "Requirement already satisfied: pytz in /usr/local/lib/python3.10/dist-packages (from snowflake-connector-python<4.0.0->snowflake-sqlalchemy) (2023.4)\n",
            "Requirement already satisfied: requests<3.0.0 in /usr/local/lib/python3.10/dist-packages (from snowflake-connector-python<4.0.0->snowflake-sqlalchemy) (2.31.0)\n",
            "Requirement already satisfied: packaging in /usr/local/lib/python3.10/dist-packages (from snowflake-connector-python<4.0.0->snowflake-sqlalchemy) (23.2)\n",
            "Requirement already satisfied: charset-normalizer<4,>=2 in /usr/local/lib/python3.10/dist-packages (from snowflake-connector-python<4.0.0->snowflake-sqlalchemy) (3.3.2)\n",
            "Requirement already satisfied: idna<4,>=2.5 in /usr/local/lib/python3.10/dist-packages (from snowflake-connector-python<4.0.0->snowflake-sqlalchemy) (3.6)\n",
            "Requirement already satisfied: certifi>=2017.4.17 in /usr/local/lib/python3.10/dist-packages (from snowflake-connector-python<4.0.0->snowflake-sqlalchemy) (2024.2.2)\n",
            "Requirement already satisfied: typing-extensions<5,>=4.3 in /usr/local/lib/python3.10/dist-packages (from snowflake-connector-python<4.0.0->snowflake-sqlalchemy) (4.9.0)\n",
            "Requirement already satisfied: filelock<4,>=3.5 in /usr/local/lib/python3.10/dist-packages (from snowflake-connector-python<4.0.0->snowflake-sqlalchemy) (3.13.1)\n",
            "Requirement already satisfied: sortedcontainers>=2.4.0 in /usr/local/lib/python3.10/dist-packages (from snowflake-connector-python<4.0.0->snowflake-sqlalchemy) (2.4.0)\n",
            "Collecting platformdirs<4.0.0,>=2.6.0 (from snowflake-connector-python<4.0.0->snowflake-sqlalchemy)\n",
            "  Downloading platformdirs-3.11.0-py3-none-any.whl (17 kB)\n",
            "Collecting tomlkit (from snowflake-connector-python<4.0.0->snowflake-sqlalchemy)\n",
            "  Downloading tomlkit-0.12.3-py3-none-any.whl (37 kB)\n",
            "Requirement already satisfied: greenlet!=0.4.17 in /usr/local/lib/python3.10/dist-packages (from sqlalchemy<2.0.0,>=1.4.0->snowflake-sqlalchemy) (3.0.3)\n",
            "Requirement already satisfied: pycparser in /usr/local/lib/python3.10/dist-packages (from cffi<2.0.0,>=1.9->snowflake-connector-python<4.0.0->snowflake-sqlalchemy) (2.21)\n",
            "Requirement already satisfied: urllib3<3,>=1.21.1 in /usr/local/lib/python3.10/dist-packages (from requests<3.0.0->snowflake-connector-python<4.0.0->snowflake-sqlalchemy) (2.0.7)\n",
            "Installing collected packages: asn1crypto, tomlkit, sqlalchemy, platformdirs, cryptography, pyOpenSSL, snowflake-connector-python, snowflake-sqlalchemy\n",
            "  Attempting uninstall: sqlalchemy\n",
            "    Found existing installation: SQLAlchemy 2.0.27\n",
            "    Uninstalling SQLAlchemy-2.0.27:\n",
            "      Successfully uninstalled SQLAlchemy-2.0.27\n",
            "  Attempting uninstall: platformdirs\n",
            "    Found existing installation: platformdirs 4.2.0\n",
            "    Uninstalling platformdirs-4.2.0:\n",
            "      Successfully uninstalled platformdirs-4.2.0\n",
            "  Attempting uninstall: cryptography\n",
            "    Found existing installation: cryptography 42.0.2\n",
            "    Uninstalling cryptography-42.0.2:\n",
            "      Successfully uninstalled cryptography-42.0.2\n",
            "  Attempting uninstall: pyOpenSSL\n",
            "    Found existing installation: pyOpenSSL 24.0.0\n",
            "    Uninstalling pyOpenSSL-24.0.0:\n",
            "      Successfully uninstalled pyOpenSSL-24.0.0\n",
            "\u001b[31mERROR: pip's dependency resolver does not currently take into account all the packages that are installed. This behaviour is the source of the following dependency conflicts.\n",
            "ipython-sql 0.5.0 requires sqlalchemy>=2.0, but you have sqlalchemy 1.4.51 which is incompatible.\u001b[0m\u001b[31m\n",
            "\u001b[0mSuccessfully installed asn1crypto-1.5.1 cryptography-41.0.7 platformdirs-3.11.0 pyOpenSSL-23.3.0 snowflake-connector-python-3.7.0 snowflake-sqlalchemy-1.5.1 sqlalchemy-1.4.51 tomlkit-0.12.3\n"
          ]
        }
      ]
    },
    {
      "cell_type": "code",
      "source": [
        "pip install --upgrade snowflake-sqlalchemy"
      ],
      "metadata": {
        "colab": {
          "base_uri": "https://localhost:8080/"
        },
        "id": "GumV1SGFQl8i",
        "outputId": "ba2357e4-957f-4d2d-f9ec-93c1362efa34"
      },
      "execution_count": null,
      "outputs": [
        {
          "output_type": "stream",
          "name": "stdout",
          "text": [
            "Requirement already satisfied: snowflake-sqlalchemy in /usr/local/lib/python3.10/dist-packages (1.5.1)\n",
            "Requirement already satisfied: sqlalchemy<2.0.0,>=1.4.0 in /usr/local/lib/python3.10/dist-packages (from snowflake-sqlalchemy) (1.4.51)\n",
            "Requirement already satisfied: snowflake-connector-python<4.0.0 in /usr/local/lib/python3.10/dist-packages (from snowflake-sqlalchemy) (3.7.0)\n",
            "Requirement already satisfied: asn1crypto<2.0.0,>0.24.0 in /usr/local/lib/python3.10/dist-packages (from snowflake-connector-python<4.0.0->snowflake-sqlalchemy) (1.5.1)\n",
            "Requirement already satisfied: cffi<2.0.0,>=1.9 in /usr/local/lib/python3.10/dist-packages (from snowflake-connector-python<4.0.0->snowflake-sqlalchemy) (1.16.0)\n",
            "Requirement already satisfied: cryptography<42.0.0,>=3.1.0 in /usr/local/lib/python3.10/dist-packages (from snowflake-connector-python<4.0.0->snowflake-sqlalchemy) (41.0.7)\n",
            "Requirement already satisfied: pyOpenSSL<24.0.0,>=16.2.0 in /usr/local/lib/python3.10/dist-packages (from snowflake-connector-python<4.0.0->snowflake-sqlalchemy) (23.3.0)\n",
            "Requirement already satisfied: pyjwt<3.0.0 in /usr/lib/python3/dist-packages (from snowflake-connector-python<4.0.0->snowflake-sqlalchemy) (2.3.0)\n",
            "Requirement already satisfied: pytz in /usr/local/lib/python3.10/dist-packages (from snowflake-connector-python<4.0.0->snowflake-sqlalchemy) (2023.4)\n",
            "Requirement already satisfied: requests<3.0.0 in /usr/local/lib/python3.10/dist-packages (from snowflake-connector-python<4.0.0->snowflake-sqlalchemy) (2.31.0)\n",
            "Requirement already satisfied: packaging in /usr/local/lib/python3.10/dist-packages (from snowflake-connector-python<4.0.0->snowflake-sqlalchemy) (23.2)\n",
            "Requirement already satisfied: charset-normalizer<4,>=2 in /usr/local/lib/python3.10/dist-packages (from snowflake-connector-python<4.0.0->snowflake-sqlalchemy) (3.3.2)\n",
            "Requirement already satisfied: idna<4,>=2.5 in /usr/local/lib/python3.10/dist-packages (from snowflake-connector-python<4.0.0->snowflake-sqlalchemy) (3.6)\n",
            "Requirement already satisfied: certifi>=2017.4.17 in /usr/local/lib/python3.10/dist-packages (from snowflake-connector-python<4.0.0->snowflake-sqlalchemy) (2024.2.2)\n",
            "Requirement already satisfied: typing-extensions<5,>=4.3 in /usr/local/lib/python3.10/dist-packages (from snowflake-connector-python<4.0.0->snowflake-sqlalchemy) (4.9.0)\n",
            "Requirement already satisfied: filelock<4,>=3.5 in /usr/local/lib/python3.10/dist-packages (from snowflake-connector-python<4.0.0->snowflake-sqlalchemy) (3.13.1)\n",
            "Requirement already satisfied: sortedcontainers>=2.4.0 in /usr/local/lib/python3.10/dist-packages (from snowflake-connector-python<4.0.0->snowflake-sqlalchemy) (2.4.0)\n",
            "Requirement already satisfied: platformdirs<4.0.0,>=2.6.0 in /usr/local/lib/python3.10/dist-packages (from snowflake-connector-python<4.0.0->snowflake-sqlalchemy) (3.11.0)\n",
            "Requirement already satisfied: tomlkit in /usr/local/lib/python3.10/dist-packages (from snowflake-connector-python<4.0.0->snowflake-sqlalchemy) (0.12.3)\n",
            "Requirement already satisfied: greenlet!=0.4.17 in /usr/local/lib/python3.10/dist-packages (from sqlalchemy<2.0.0,>=1.4.0->snowflake-sqlalchemy) (3.0.3)\n",
            "Requirement already satisfied: pycparser in /usr/local/lib/python3.10/dist-packages (from cffi<2.0.0,>=1.9->snowflake-connector-python<4.0.0->snowflake-sqlalchemy) (2.21)\n",
            "Requirement already satisfied: urllib3<3,>=1.21.1 in /usr/local/lib/python3.10/dist-packages (from requests<3.0.0->snowflake-connector-python<4.0.0->snowflake-sqlalchemy) (2.0.7)\n"
          ]
        }
      ]
    },
    {
      "cell_type": "markdown",
      "source": [
        "# Documentation\n",
        "\n",
        "## Snowflake Database Setup Script\n",
        "\n",
        "### Description:\n",
        "This script automates the setup process for a Snowflake database, including creating a database, tables, warehouse, and uploading data from a CSV file.\n",
        "\n",
        "### Usage:\n",
        "1. Make sure you have the necessary credentials and access to a Snowflake account.\n",
        "2. Update the `user`, `password`, `account_identifier`, and `database_name` variables with your Snowflake account details.\n",
        "3. Execute the script using Python.\n",
        "\n",
        "### Dependencies:\n",
        "- Python 3.x\n",
        "- SQLAlchemy\n",
        "- Snowflake Connector\n",
        "\n",
        "### Script Steps:\n",
        "1. **Snowflake Connection Setup:**\n",
        "   - Establishes a connection to the Snowflake database using SQLAlchemy.\n",
        "\n",
        "2. **Database Creation:**\n",
        "   - Creates or replaces the specified database.\n",
        "\n",
        "3. **Table Creation:**\n",
        "   - Creates or replaces the `reading_details` table with specific column definitions.\n",
        "\n",
        "4. **Warehouse Creation:**\n",
        "   - Creates or replaces a warehouse with predefined settings.\n",
        "\n",
        "5. **Stage Creation and Data Upload:**\n",
        "   - Creates a stage for data loading.\n",
        "   - Uploads the CSV file (`refresher_readings.csv`) to the specified stage.\n",
        "\n",
        "6. **Data Loading into Table:**\n",
        "   - Copies the data from the stage to the `reading_details` table.\n",
        "\n",
        "7. **Cleanup:**\n",
        "   - Disposes the SQLAlchemy engine to release resources.\n",
        "\n",
        "### Usage Example:\n",
        "```bash\n",
        "python snowflake_setup_script.py\n"
      ],
      "metadata": {
        "id": "WGk68dCOCQ9e"
      }
    },
    {
      "cell_type": "markdown",
      "source": [
        "Note:\n",
        "Ensure that the CSV file (refresher_readings.csv) is present in the specified directory (file:///content/) before executing the script.\n",
        "Modify the file paths and Snowflake settings as needed for your environment."
      ],
      "metadata": {
        "id": "-lj7Xf75Cn-I"
      }
    },
    {
      "cell_type": "code",
      "execution_count": 8,
      "metadata": {
        "colab": {
          "base_uri": "https://localhost:8080/"
        },
        "id": "Ab6w4454P9lf",
        "outputId": "1907164e-0f82-4b16-b040-adc9a8c78c0a"
      },
      "outputs": [
        {
          "output_type": "stream",
          "name": "stdout",
          "text": [
            "Done\n"
          ]
        }
      ],
      "source": [
        "#!/usr/bin/env python\n",
        "import warnings\n",
        "from sqlalchemy import create_engine\n",
        "\n",
        "warnings.filterwarnings(\"ignore\")\n",
        "\n",
        "def main():\n",
        "    user = 'SudarshanDudhe'\n",
        "    password = 'SDudhe123'\n",
        "    account_identifier = 'ofewoso-db39110'\n",
        "    database_name = 'rr_data'\n",
        "\n",
        "    engine = create_engine(\n",
        "        f\"snowflake://{user}:{password}@{account_identifier}/\"\n",
        "    )\n",
        "\n",
        "    with engine.connect() as connection:\n",
        "        # Create database\n",
        "        connection.execute(f\"CREATE OR REPLACE DATABASE {database_name};\")\n",
        "\n",
        "        # Create table\n",
        "        connection.execute(\"\"\"CREATE OR REPLACE TABLE reading_details (\n",
        "            title STRING,\n",
        "            topic STRING,\n",
        "            year STRING,\n",
        "            level STRING,\n",
        "            introduction STRING,\n",
        "            learning_outcomes STRING,\n",
        "            summary STRING,\n",
        "            overview STRING\n",
        "            )\"\"\")\n",
        "\n",
        "        # Create warehouse\n",
        "        connection.execute(\"\"\"CREATE OR REPLACE WAREHOUSE rr_data_wh WITH\n",
        "           WAREHOUSE_SIZE='X-SMALL'\n",
        "           AUTO_SUSPEND = 180\n",
        "           AUTO_RESUME = TRUE\n",
        "           INITIALLY_SUSPENDED=TRUE;\n",
        "           \"\"\")\n",
        "\n",
        "        # Create stage and upload files\n",
        "        connection.execute(\"USE DATABASE rr_data\")\n",
        "        connection.execute(\"\"\"CREATE STAGE REFRESHER_READINGS DIRECTORY = ( ENABLE = true );\"\"\")\n",
        "        connection.execute(\"\"\"PUT file:///content/refresher_readings.csv @rr_data.public.refresher_readings;\"\"\")\n",
        "\n",
        "        # Copy stage to table\n",
        "        connection.execute(\"USE WAREHOUSE rr_data_wh\")\n",
        "        connection.execute(\"\"\"COPY INTO reading_details\n",
        "          FROM @rr_data.public.refresher_readings\n",
        "          FILE_FORMAT = (type = csv field_optionally_enclosed_by='\"')\n",
        "          PATTERN = '.*refresher_readings.csv.gz'\n",
        "          ON_ERROR = 'skip_file';\"\"\")\n",
        "\n",
        "    print(\"Done\")\n",
        "    engine.dispose()\n",
        "\n",
        "if __name__ == \"__main__\":\n",
        "    main()\n"
      ]
    }
  ]
}