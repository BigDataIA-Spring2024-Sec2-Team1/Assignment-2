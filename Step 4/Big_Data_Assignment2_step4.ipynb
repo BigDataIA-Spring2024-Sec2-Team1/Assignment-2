{
  "nbformat": 4,
  "nbformat_minor": 0,
  "metadata": {
    "colab": {
      "provenance": []
    },
    "kernelspec": {
      "name": "python3",
      "display_name": "Python 3"
    },
    "language_info": {
      "name": "python"
    }
  },
  "cells": [
    {
      "cell_type": "code",
      "source": [
        "import boto3\n",
        "import os"
      ],
      "metadata": {
        "id": "Yv11JsFvVsRn"
      },
      "execution_count": null,
      "outputs": []
    },
    {
      "cell_type": "code",
      "source": [
        "def upload_file_to_s3(file_path, bucket_name, object_name, size):\n",
        "    s3 = boto3.client('s3')\n",
        "    try:\n",
        "        metadata = {\n",
        "            \"file_name\": object_name.split(\"/\")[1],\n",
        "            \"type\": \"txt\",\n",
        "            \"size\": f\"{size} Byte\"\n",
        "            }\n",
        "        s3.upload_file(file_path, bucket_name, object_name, ExtraArgs={\"Metadata\": metadata})\n",
        "        print(f\"File uploaded successfully to S3 bucket '{bucket_name}' with key '{object_name}'\")\n",
        "    except Exception as e:\n",
        "        print(f\"Error uploading file to S3: {e}\")"
      ],
      "metadata": {
        "id": "QZ7_52oiFn4_"
      },
      "execution_count": null,
      "outputs": []
    },
    {
      "cell_type": "code",
      "source": [
        "bucket_name = 'bigdata-assignment2'\n",
        "folder_path = ['PyPDF', 'Grobid', 'CSV']"
      ],
      "metadata": {
        "id": "YVvpjdSHFpGF"
      },
      "execution_count": null,
      "outputs": []
    },
    {
      "cell_type": "code",
      "source": [
        "for folder in folder_path:\n",
        "    files = (file for file in os.listdir(folder) if os.path.isfile(os.path.join(folder, file)))\n",
        "    for file in files:\n",
        "        print(\"Uploading file\", file)\n",
        "        file_stats = os.stat(f\"{folder}/{file}\")\n",
        "        upload_file_to_s3(f\"{folder}/{file}\", bucket_name, f\"{folder}/{file}\", file_stats.st_size)"
      ],
      "metadata": {
        "id": "JkXSfIr6FrQ6"
      },
      "execution_count": null,
      "outputs": []
    }
  ]
}